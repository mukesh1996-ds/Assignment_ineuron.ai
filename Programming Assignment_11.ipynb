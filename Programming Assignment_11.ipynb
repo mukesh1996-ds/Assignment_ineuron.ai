{
 "cells": [
  {
   "cell_type": "markdown",
   "metadata": {},
   "source": [
    "1. Write a Python program to find words which are greater than given length k?"
   ]
  },
  {
   "cell_type": "code",
   "execution_count": 6,
   "metadata": {},
   "outputs": [
    {
     "name": "stdout",
     "output_type": "stream",
     "text": [
      "['intresting']\n"
     ]
    }
   ],
   "source": [
    "def word_greater_k(k, str):\n",
    "    string = []\n",
    "    text = str.split(\" \")\n",
    "    for x in text:\n",
    "        if len(x) > k:\n",
    "            string.append(x)\n",
    "    return string\n",
    "\n",
    "\n",
    "\n",
    "k = 8\n",
    "str =\"Hello coding is intresting\"\n",
    "print(word_greater_k(k, str))"
   ]
  },
  {
   "cell_type": "markdown",
   "metadata": {},
   "source": [
    "2. Write a Python program for removing i-th character from a string?"
   ]
  },
  {
   "cell_type": "code",
   "execution_count": 16,
   "metadata": {},
   "outputs": [],
   "source": [
    "def remove_ith(a,k):\n",
    "    x = a[:k]# removing the ith element\n",
    "    y = a[k + 1:]#continuing form i+1 th element\n",
    "    return x+y # contination\n"
   ]
  },
  {
   "cell_type": "code",
   "execution_count": 17,
   "metadata": {},
   "outputs": [],
   "source": [
    "string = \"hello this is my program \""
   ]
  },
  {
   "cell_type": "code",
   "execution_count": 18,
   "metadata": {},
   "outputs": [
    {
     "data": {
      "text/plain": [
       "'hellothis is my program '"
      ]
     },
     "execution_count": 18,
     "metadata": {},
     "output_type": "execute_result"
    }
   ],
   "source": [
    "remove_ith(string,5)"
   ]
  },
  {
   "cell_type": "markdown",
   "metadata": {},
   "source": [
    "3. Write a Python program to split and join a string?"
   ]
  },
  {
   "cell_type": "code",
   "execution_count": 40,
   "metadata": {},
   "outputs": [
    {
     "data": {
      "text/plain": [
       "'A-L-L- -&- -A-N-Y- -a-r-e- -l-o-g-i-c-a-l- -o-p-e-r-a-t-o-r-s- -i-n- -S-Q-L-.'"
      ]
     },
     "execution_count": 40,
     "metadata": {},
     "output_type": "execute_result"
    }
   ],
   "source": [
    "info = \"ALL & ANY are logical operators in SQL.\"\n",
    "info.split()\n",
    "\"-\".join(info)"
   ]
  },
  {
   "cell_type": "markdown",
   "metadata": {},
   "source": [
    "4. Write a Python to check if a given string is binary string or not?"
   ]
  },
  {
   "cell_type": "code",
   "execution_count": 47,
   "metadata": {},
   "outputs": [],
   "source": [
    "def check_binary(string) :\n",
    "    p = set(string) # converting\n",
    "    s = {'0', '1'} # set of 0,1\n",
    "    if s == p or p == {'0'} or p == {'1'}:\n",
    "        print(\"Yes it is a binary number\")\n",
    "    else :\n",
    "        print(\"No it's not a binary\")"
   ]
  },
  {
   "cell_type": "code",
   "execution_count": 49,
   "metadata": {},
   "outputs": [
    {
     "name": "stdout",
     "output_type": "stream",
     "text": [
      "Yes it is a binary number\n"
     ]
    }
   ],
   "source": [
    "string = \"01010100100\"\n",
    "check_binary(string)"
   ]
  },
  {
   "cell_type": "markdown",
   "metadata": {},
   "source": [
    "5. Write a Python program to find uncommon words from two Strings?"
   ]
  },
  {
   "cell_type": "code",
   "execution_count": 66,
   "metadata": {},
   "outputs": [],
   "source": [
    "def uncommon_words(a):\n",
    "    \n",
    "    x = {}\n",
    "    for i in a.split():\n",
    "        x[i] = x.get(i, 0) + 1\n",
    "        return [i for i in x if x[i] == 1]\n",
    "  \n"
   ]
  },
  {
   "cell_type": "code",
   "execution_count": 67,
   "metadata": {},
   "outputs": [],
   "source": [
    "string = \"Vision is a commercial lease and loan origination platform that helps organizations streamline and automate business workflows.\""
   ]
  },
  {
   "cell_type": "code",
   "execution_count": 68,
   "metadata": {},
   "outputs": [
    {
     "data": {
      "text/plain": [
       "['Vision']"
      ]
     },
     "execution_count": 68,
     "metadata": {},
     "output_type": "execute_result"
    }
   ],
   "source": [
    "uncommon_words(string)"
   ]
  },
  {
   "cell_type": "markdown",
   "metadata": {},
   "source": [
    "6. Write a Python to find all duplicate characters in string?\n"
   ]
  },
  {
   "cell_type": "code",
   "execution_count": 75,
   "metadata": {},
   "outputs": [
    {
     "name": "stdout",
     "output_type": "stream",
     "text": [
      "duplicate value is  ['t']\n",
      "duplicate value is  ['t', 'h']\n",
      "duplicate value is  ['t', 'h', 'i']\n",
      "duplicate value is  ['t', 'h', 'i', 's']\n",
      "duplicate value is  ['t', 'h', 'i', 's', ' ']\n",
      "duplicate value is  ['t', 'h', 'i', 's', ' ', 'a']\n",
      "duplicate value is  ['t', 'h', 'i', 's', ' ', 'a', 'n']\n",
      "duplicate value is  ['t', 'h', 'i', 's', ' ', 'a', 'n', 'e']\n",
      "duplicate value is  ['t', 'h', 'i', 's', ' ', 'a', 'n', 'e', 'w']\n",
      "duplicate value is  ['t', 'h', 'i', 's', ' ', 'a', 'n', 'e', 'w', 'r']\n",
      "duplicate value is  ['t', 'h', 'i', 's', ' ', 'a', 'n', 'e', 'w', 'r', 'o']\n",
      "duplicate value is  ['t', 'h', 'i', 's', ' ', 'a', 'n', 'e', 'w', 'r', 'o', 'u']\n"
     ]
    }
   ],
   "source": [
    "str = \"this is a new generation where everyone is unique\"\n",
    "duplicate = []\n",
    "for char in str:\n",
    "    if str.count(char) > 1 :\n",
    "        if char not in duplicate:\n",
    "            duplicate.append(char)\n",
    "            print(\"duplicate value is \", duplicate)\n"
   ]
  },
  {
   "cell_type": "markdown",
   "metadata": {},
   "source": [
    "7. Write a Python Program to check if a string contains any special character?"
   ]
  },
  {
   "cell_type": "code",
   "execution_count": 95,
   "metadata": {},
   "outputs": [],
   "source": [
    "import re\n",
    "special_char = re.compile(\"!,@,#,$,%,^,&,*,(,),:,;,>,<,?,\\,/,\"\",''\")"
   ]
  },
  {
   "cell_type": "code",
   "execution_count": 106,
   "metadata": {},
   "outputs": [],
   "source": [
    "def check_special(str, special_char):\n",
    "    if(special_char.search(str) == None):\n",
    "        print('String  contain  special characters.')\n",
    "    else:\n",
    "        \n",
    "        print('The string does not contains special characters.')\n",
    "        \n",
    "    \n",
    "    "
   ]
  },
  {
   "cell_type": "code",
   "execution_count": 107,
   "metadata": {},
   "outputs": [
    {
     "name": "stdout",
     "output_type": "stream",
     "text": [
      "String  contain  special characters.\n"
     ]
    }
   ],
   "source": [
    "str = \"this is demo##\"\n",
    "check_special(str,special_char)"
   ]
  },
  {
   "cell_type": "code",
   "execution_count": null,
   "metadata": {},
   "outputs": [],
   "source": []
  },
  {
   "cell_type": "code",
   "execution_count": null,
   "metadata": {},
   "outputs": [],
   "source": []
  }
 ],
 "metadata": {
  "kernelspec": {
   "display_name": "Python 3",
   "language": "python",
   "name": "python3"
  },
  "language_info": {
   "codemirror_mode": {
    "name": "ipython",
    "version": 3
   },
   "file_extension": ".py",
   "mimetype": "text/x-python",
   "name": "python",
   "nbconvert_exporter": "python",
   "pygments_lexer": "ipython3",
   "version": "3.5.5"
  }
 },
 "nbformat": 4,
 "nbformat_minor": 2
}
