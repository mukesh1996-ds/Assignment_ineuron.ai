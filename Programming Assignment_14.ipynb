{
 "cells": [
  {
   "cell_type": "markdown",
   "metadata": {},
   "source": [
    "question 1"
   ]
  },
  {
   "cell_type": "code",
   "execution_count": 15,
   "metadata": {},
   "outputs": [],
   "source": [
    "class generator:\n",
    "    def __init__(self, n):\n",
    "        self.n = n\n",
    "        n = 100\n",
    "        for i in range(0,n):\n",
    "            if i%7 ==0:\n",
    "                print(i)\n",
    "            else:\n",
    "                pass\n",
    "            "
   ]
  },
  {
   "cell_type": "code",
   "execution_count": 16,
   "metadata": {},
   "outputs": [
    {
     "name": "stdout",
     "output_type": "stream",
     "text": [
      "0\n",
      "7\n",
      "14\n",
      "21\n",
      "28\n",
      "35\n",
      "42\n",
      "49\n",
      "56\n",
      "63\n",
      "70\n",
      "77\n",
      "84\n",
      "91\n",
      "98\n"
     ]
    }
   ],
   "source": [
    "num1 = generator(14)"
   ]
  },
  {
   "cell_type": "markdown",
   "metadata": {},
   "source": [
    "Question 2:"
   ]
  },
  {
   "cell_type": "code",
   "execution_count": 40,
   "metadata": {},
   "outputs": [
    {
     "name": "stdout",
     "output_type": "stream",
     "text": [
      "Enter the string:New to Python or choosing between Python 2 and Python 3? Read Python 2 or Python 3.\n",
      "dict_keys(['New']) dict_values([1])\n",
      "dict_keys(['New', 'to']) dict_values([1, 1])\n",
      "dict_keys(['New', 'Python', 'to']) dict_values([1, 1, 1])\n",
      "dict_keys(['New', 'Python', 'to', 'or']) dict_values([1, 1, 1, 1])\n",
      "dict_keys(['New', 'Python', 'to', 'or', 'choosing']) dict_values([1, 1, 1, 1, 1])\n",
      "dict_keys(['New', 'choosing', 'to', 'Python', 'or', 'between']) dict_values([1, 1, 1, 1, 1, 1])\n",
      "dict_keys(['New', 'choosing', 'to', 'Python', 'or', 'between']) dict_values([1, 1, 1, 2, 1, 1])\n",
      "dict_keys(['New', 'choosing', 'to', '2', 'Python', 'or', 'between']) dict_values([1, 1, 1, 1, 2, 1, 1])\n",
      "dict_keys(['New', 'choosing', 'to', '2', 'and', 'Python', 'or', 'between']) dict_values([1, 1, 1, 1, 1, 2, 1, 1])\n",
      "dict_keys(['New', 'choosing', 'to', '2', 'and', 'Python', 'or', 'between']) dict_values([1, 1, 1, 1, 1, 3, 1, 1])\n",
      "dict_keys(['New', 'choosing', '3?', 'to', '2', 'and', 'Python', 'or', 'between']) dict_values([1, 1, 1, 1, 1, 1, 3, 1, 1])\n",
      "dict_keys(['New', 'choosing', '3?', 'to', 'Read', '2', 'and', 'Python', 'or', 'between']) dict_values([1, 1, 1, 1, 1, 1, 1, 3, 1, 1])\n",
      "dict_keys(['New', 'choosing', '3?', 'to', 'Read', '2', 'and', 'Python', 'or', 'between']) dict_values([1, 1, 1, 1, 1, 1, 1, 4, 1, 1])\n",
      "dict_keys(['New', 'choosing', '3?', 'to', 'Read', '2', 'and', 'Python', 'or', 'between']) dict_values([1, 1, 1, 1, 1, 2, 1, 4, 1, 1])\n",
      "dict_keys(['New', 'choosing', '3?', 'to', 'Read', '2', 'and', 'Python', 'or', 'between']) dict_values([1, 1, 1, 1, 1, 2, 1, 4, 2, 1])\n",
      "dict_keys(['New', 'choosing', '3?', 'to', 'Read', '2', 'and', 'Python', 'or', 'between']) dict_values([1, 1, 1, 1, 1, 2, 1, 5, 2, 1])\n",
      "dict_keys(['New', 'choosing', '3?', 'to', 'Read', '3.', '2', 'and', 'Python', 'or', 'between']) dict_values([1, 1, 1, 1, 1, 1, 2, 1, 5, 2, 1])\n"
     ]
    }
   ],
   "source": [
    "d=dict()\n",
    "s=input(\"Enter the string:\")\n",
    "for i in s.split():\n",
    "    d[i]=d.get(i,0)+1\n",
    "    a = d.keys()\n",
    "    b = d.values()\n",
    "    print( a,b)\n",
    "    "
   ]
  },
  {
   "cell_type": "markdown",
   "metadata": {},
   "source": [
    "Question 3"
   ]
  },
  {
   "cell_type": "code",
   "execution_count": 60,
   "metadata": {},
   "outputs": [],
   "source": [
    "class gender:\n",
    "    def getgender(self):\n",
    "        print(\"check for gender Male or Female\")\n",
    "class male:\n",
    "    def get_gender1(self):\n",
    "        print(\"male\")\n",
    "class female:\n",
    "    def get_gender(self):\n",
    "        print(\"female\")\n",
    "        \n",
    "    "
   ]
  },
  {
   "cell_type": "code",
   "execution_count": 64,
   "metadata": {},
   "outputs": [
    {
     "name": "stdout",
     "output_type": "stream",
     "text": [
      "female\n"
     ]
    }
   ],
   "source": [
    "class very_gender(gender, male, female):\n",
    "    def check(val):\n",
    "        if val == male:\n",
    "            print('male')\n",
    "        else :\n",
    "            print('female')\n",
    "\n",
    "check(female)\n",
    "    "
   ]
  },
  {
   "cell_type": "markdown",
   "metadata": {},
   "source": [
    "Question 4"
   ]
  },
  {
   "cell_type": "code",
   "execution_count": 68,
   "metadata": {},
   "outputs": [],
   "source": [
    "sub = [\"I\", \"You\"]\n",
    "verbs = [\"Play\", \"Love\"]\n",
    "object = [\"Hockey\",\"Football\"]"
   ]
  },
  {
   "cell_type": "code",
   "execution_count": 69,
   "metadata": {},
   "outputs": [
    {
     "data": {
      "text/plain": [
       "['I', 'You', 'Play', 'Love', 'Hockey', 'Football']"
      ]
     },
     "execution_count": 69,
     "metadata": {},
     "output_type": "execute_result"
    }
   ],
   "source": [
    "sub+verbs+object"
   ]
  },
  {
   "cell_type": "markdown",
   "metadata": {},
   "source": [
    "Question 5"
   ]
  },
  {
   "cell_type": "code",
   "execution_count": 82,
   "metadata": {},
   "outputs": [],
   "source": [
    "import zlib\n",
    "statement = \"helloworld!helloworld!hello world!hello world!\""
   ]
  },
  {
   "cell_type": "code",
   "execution_count": 92,
   "metadata": {},
   "outputs": [
    {
     "name": "stdout",
     "output_type": "stream",
     "text": [
      "<class 'str'>\n",
      "compress statement is  b'x\\x9c\\xcbH\\xcd\\xc9\\xc9/\\xcf/\\xcaIQ\\xcc@c*`\\xb2\\x01\\xab\\x94\\x11\\xb5'\n",
      "decompress statement is  b'helloworld!helloworld!hello world!hello world!'\n"
     ]
    }
   ],
   "source": [
    "print(type(statement))\n",
    "y = bytes(statement, 'utf-8')\n",
    "comp = zlib.compress(y)\n",
    "print(\"compress statement is \", comp)\n",
    "decomp =zlib.decompress(comp)\n",
    "print(\"decompress statement is \", decomp)\n"
   ]
  },
  {
   "cell_type": "markdown",
   "metadata": {},
   "source": [
    "Question 6"
   ]
  },
  {
   "cell_type": "code",
   "execution_count": 100,
   "metadata": {},
   "outputs": [
    {
     "name": "stdout",
     "output_type": "stream",
     "text": [
      "[4, 12, 13, 18, 40]\n"
     ]
    }
   ],
   "source": [
    "from bisect import bisect_left\n",
    "  \n",
    "def BinarySearch(a, x):\n",
    "    i = bisect_left(a, x)\n",
    "    if i != len(a) and a[i] == x:\n",
    "        return i\n",
    "    else:\n",
    "        return -1\n",
    "  \n",
    "a  = [13, 12, 4, 40, 18]\n",
    "a.sort()\n",
    "print(a)\n"
   ]
  },
  {
   "cell_type": "code",
   "execution_count": 103,
   "metadata": {},
   "outputs": [
    {
     "data": {
      "text/plain": [
       "4"
      ]
     },
     "execution_count": 103,
     "metadata": {},
     "output_type": "execute_result"
    }
   ],
   "source": [
    "BinarySearch(a, 40)"
   ]
  },
  {
   "cell_type": "code",
   "execution_count": null,
   "metadata": {},
   "outputs": [],
   "source": []
  }
 ],
 "metadata": {
  "kernelspec": {
   "display_name": "Python 3",
   "language": "python",
   "name": "python3"
  },
  "language_info": {
   "codemirror_mode": {
    "name": "ipython",
    "version": 3
   },
   "file_extension": ".py",
   "mimetype": "text/x-python",
   "name": "python",
   "nbconvert_exporter": "python",
   "pygments_lexer": "ipython3",
   "version": "3.5.5"
  }
 },
 "nbformat": 4,
 "nbformat_minor": 2
}
