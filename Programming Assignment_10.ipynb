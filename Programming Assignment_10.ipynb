{
 "cells": [
  {
   "cell_type": "markdown",
   "metadata": {},
   "source": [
    "1. Write a Python program to find sum of elements in list?"
   ]
  },
  {
   "cell_type": "code",
   "execution_count": 1,
   "metadata": {},
   "outputs": [
    {
     "name": "stdout",
     "output_type": "stream",
     "text": [
      "summ of value is  245\n"
     ]
    }
   ],
   "source": [
    "sum = 0\n",
    "l1 = [25,40,80,100]\n",
    "for i in range(0,len(l1)):\n",
    "    sum = sum+ l1[i]\n",
    "\n",
    "print(\"summ of value is \", sum)"
   ]
  },
  {
   "cell_type": "markdown",
   "metadata": {},
   "source": [
    "2. Write a Python program to Multiply all numbers in the list?"
   ]
  },
  {
   "cell_type": "code",
   "execution_count": 2,
   "metadata": {},
   "outputs": [
    {
     "name": "stdout",
     "output_type": "stream",
     "text": [
      "multiplication value is 8000000\n"
     ]
    }
   ],
   "source": [
    "def multiply(a):\n",
    "    res = 1\n",
    "    for i in l1:\n",
    "        res = res*i\n",
    "    return res\n",
    "print(\"multiplication value is\",multiply(l1) )"
   ]
  },
  {
   "cell_type": "markdown",
   "metadata": {},
   "source": [
    "3. Write a Python program to find smallest number in a list?"
   ]
  },
  {
   "cell_type": "code",
   "execution_count": 3,
   "metadata": {},
   "outputs": [
    {
     "name": "stdout",
     "output_type": "stream",
     "text": [
      "sorted element in the list is  [7]\n"
     ]
    }
   ],
   "source": [
    "list1 = [100,50,12,800,7,500]\n",
    "list1.sort()\n",
    "print(\"sorted element in the list is \",list1[:1])"
   ]
  },
  {
   "cell_type": "markdown",
   "metadata": {},
   "source": [
    "4. Write a Python program to find largest number in a list?"
   ]
  },
  {
   "cell_type": "code",
   "execution_count": 5,
   "metadata": {},
   "outputs": [
    {
     "name": "stdout",
     "output_type": "stream",
     "text": [
      "the largest element in the list is 100\n"
     ]
    }
   ],
   "source": [
    "list2 = [20,10.5,80,65,78,100,5,8,90]\n",
    "list2.sort()\n",
    "print(\"the largest element in the list is\", max(list2))"
   ]
  },
  {
   "cell_type": "markdown",
   "metadata": {},
   "source": [
    "5. Write a Python program to find second largest number in a list?"
   ]
  },
  {
   "cell_type": "code",
   "execution_count": 6,
   "metadata": {},
   "outputs": [],
   "source": [
    "list3 = list2"
   ]
  },
  {
   "cell_type": "code",
   "execution_count": 7,
   "metadata": {},
   "outputs": [
    {
     "data": {
      "text/plain": [
       "[5, 8, 10.5, 20, 65, 78, 80, 90, 100]"
      ]
     },
     "execution_count": 7,
     "metadata": {},
     "output_type": "execute_result"
    }
   ],
   "source": [
    "list3"
   ]
  },
  {
   "cell_type": "code",
   "execution_count": 11,
   "metadata": {},
   "outputs": [
    {
     "name": "stdout",
     "output_type": "stream",
     "text": [
      "the second largest value is : 90\n"
     ]
    }
   ],
   "source": [
    "print(\"the second largest value is :\", list3[-2])"
   ]
  },
  {
   "cell_type": "markdown",
   "metadata": {},
   "source": [
    "6. Write a Python program to find N largest elements from a list?"
   ]
  },
  {
   "cell_type": "code",
   "execution_count": 30,
   "metadata": {},
   "outputs": [],
   "source": [
    "def n_max(a,n):\n",
    "    final_element = []\n",
    "    for i in range(0,n):\n",
    "        max = 0\n",
    "        for j in range(len(a)):\n",
    "            if a[j]>max:\n",
    "                max = a[j]\n",
    "        a.remove(max)\n",
    "        final_element.append(max)\n",
    "    print(final_element)\n",
    "            "
   ]
  },
  {
   "cell_type": "code",
   "execution_count": 34,
   "metadata": {},
   "outputs": [],
   "source": [
    "list5 = [45,65,75,3,6,3,74,7,36]\n",
    "n= 4 # it represent the number of n largest element"
   ]
  },
  {
   "cell_type": "code",
   "execution_count": 35,
   "metadata": {},
   "outputs": [
    {
     "name": "stdout",
     "output_type": "stream",
     "text": [
      "[75, 74, 65, 45]\n"
     ]
    }
   ],
   "source": [
    "n_max(list5,n)"
   ]
  },
  {
   "cell_type": "markdown",
   "metadata": {},
   "source": [
    "7. Write a Python program to print even numbers in a list?"
   ]
  },
  {
   "cell_type": "code",
   "execution_count": 44,
   "metadata": {},
   "outputs": [
    {
     "name": "stdout",
     "output_type": "stream",
     "text": [
      "even element in the list are : 54\n",
      "even element in the list are : 762\n",
      "even element in the list are : 56\n",
      "even element in the list are : 6\n"
     ]
    }
   ],
   "source": [
    "list_6 = [23,45,54,673,762,5,73,56,23,6]\n",
    "for i in list_6:\n",
    "    if i % 2 == 0:\n",
    "        print(\"even element in the list are :\",i)\n",
    "        "
   ]
  },
  {
   "cell_type": "markdown",
   "metadata": {},
   "source": [
    "8. Write a Python program to print odd numbers in a List?"
   ]
  },
  {
   "cell_type": "code",
   "execution_count": 45,
   "metadata": {},
   "outputs": [
    {
     "name": "stdout",
     "output_type": "stream",
     "text": [
      "odd element in the list are : 23\n",
      "odd element in the list are : 45\n",
      "odd element in the list are : 673\n",
      "odd element in the list are : 5\n",
      "odd element in the list are : 73\n",
      "odd element in the list are : 23\n"
     ]
    }
   ],
   "source": [
    "list_7 = [23,45,54,673,762,5,73,56,23,6]\n",
    "for i in list_7:\n",
    "    if i % 2 != 0:\n",
    "        print(\"odd element in the list are :\",i)\n",
    "        "
   ]
  },
  {
   "cell_type": "markdown",
   "metadata": {},
   "source": [
    "9. Write a Python program to Remove empty List from List?"
   ]
  },
  {
   "cell_type": "code",
   "execution_count": 50,
   "metadata": {},
   "outputs": [],
   "source": [
    "list7 = [1,24,[],34,534,[],643,[]]"
   ]
  },
  {
   "cell_type": "code",
   "execution_count": 55,
   "metadata": {},
   "outputs": [
    {
     "name": "stdout",
     "output_type": "stream",
     "text": [
      "[1, 24, 34, 534, 643]\n"
     ]
    }
   ],
   "source": [
    "# list comprehension\n",
    "res = [val for val in list7 if val != []]\n",
    "print(res)"
   ]
  },
  {
   "cell_type": "code",
   "execution_count": 56,
   "metadata": {},
   "outputs": [],
   "source": [
    "def empty(a):\n",
    "    for val in list7:\n",
    "        if val!= []:\n",
    "            print(val)"
   ]
  },
  {
   "cell_type": "code",
   "execution_count": 54,
   "metadata": {},
   "outputs": [
    {
     "name": "stdout",
     "output_type": "stream",
     "text": [
      "1\n",
      "24\n",
      "34\n",
      "534\n",
      "643\n"
     ]
    }
   ],
   "source": [
    "empty(list7)"
   ]
  },
  {
   "cell_type": "markdown",
   "metadata": {},
   "source": [
    "10. Write a Python program to Cloning or Copying a list?"
   ]
  },
  {
   "cell_type": "code",
   "execution_count": 60,
   "metadata": {},
   "outputs": [
    {
     "name": "stdout",
     "output_type": "stream",
     "text": [
      "original list of element [3, 4, 5, 78, 4, 5, 7]\n"
     ]
    },
    {
     "data": {
      "text/plain": [
       "('copy element are', [3, 4, 5, 78, 4, 5, 7])"
      ]
     },
     "execution_count": 60,
     "metadata": {},
     "output_type": "execute_result"
    }
   ],
   "source": [
    "list8 = [3,4,5,78,4,5,7]\n",
    "print(\"original list of element\", list8)\n",
    "def copy(a):\n",
    "    list9 = []\n",
    "    list9.extend(list8)\n",
    "    return \"copy element are\",list9\n",
    "\n",
    "\n",
    "#print(\"copy list of element are\", list9)\n",
    "copy(list8)"
   ]
  },
  {
   "cell_type": "markdown",
   "metadata": {},
   "source": [
    "11. Write a Python program to Count occurrences of an element in a list?"
   ]
  },
  {
   "cell_type": "code",
   "execution_count": 63,
   "metadata": {},
   "outputs": [
    {
     "data": {
      "text/plain": [
       "('number of time number is repeated in list', 2)"
      ]
     },
     "execution_count": 63,
     "metadata": {},
     "output_type": "execute_result"
    }
   ],
   "source": [
    "def count_val(a,x):\n",
    "    return \"number of time number is repeated in list\",a.count(x)\n",
    "\n",
    "list10 = [1,324,4212,5,42,435,42,52,52,53]\n",
    "\n",
    "count_val(list10, 42)"
   ]
  },
  {
   "cell_type": "code",
   "execution_count": null,
   "metadata": {},
   "outputs": [],
   "source": []
  }
 ],
 "metadata": {
  "kernelspec": {
   "display_name": "Python 3",
   "language": "python",
   "name": "python3"
  },
  "language_info": {
   "codemirror_mode": {
    "name": "ipython",
    "version": 3
   },
   "file_extension": ".py",
   "mimetype": "text/x-python",
   "name": "python",
   "nbconvert_exporter": "python",
   "pygments_lexer": "ipython3",
   "version": "3.5.5"
  }
 },
 "nbformat": 4,
 "nbformat_minor": 2
}
