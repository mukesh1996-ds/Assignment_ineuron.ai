{
 "cells": [
  {
   "cell_type": "markdown",
   "metadata": {},
   "source": [
    "1. Write a Python program to convert kilometers to miles?"
   ]
  },
  {
   "cell_type": "code",
   "execution_count": 9,
   "metadata": {},
   "outputs": [
    {
     "name": "stdout",
     "output_type": "stream",
     "text": [
      "enter the distance travled in kilometer 8\n",
      "miles pre kilometer is 4.968\n",
      "obtained miles in km 4.968\n"
     ]
    }
   ],
   "source": [
    "km = float(input(\"enter the distance travled in kilometer \"))\n",
    "# w know that 1km = 0.621 miles\n",
    "miles = km*0.621\n",
    "print(\"miles pre kilometer is {}\".format(miles))\n",
    "# othe method \n",
    "def miles(km):\n",
    "    miles = km*0.621\n",
    "    return miles\n",
    "\n",
    "print(\"obtained miles in km {}\".format(miles(8)))"
   ]
  },
  {
   "cell_type": "markdown",
   "metadata": {},
   "source": [
    "2. Write a Python program to convert Celsius to Fahrenheit?"
   ]
  },
  {
   "cell_type": "code",
   "execution_count": 12,
   "metadata": {},
   "outputs": [
    {
     "name": "stdout",
     "output_type": "stream",
     "text": [
      "enter the temperature52.8\n",
      "fahrenheit of the given celsius is 127.03999999999999\n"
     ]
    }
   ],
   "source": [
    "celsius = float(input(\"enter the temperature\"))\n",
    "fahrenheit = (celsius * 9/5) + 32\n",
    "print('fahrenheit of the given celsius is {}'.format(fahrenheit))"
   ]
  },
  {
   "cell_type": "markdown",
   "metadata": {},
   "source": [
    "3. Write a Python program to display calendar?"
   ]
  },
  {
   "cell_type": "code",
   "execution_count": 21,
   "metadata": {},
   "outputs": [
    {
     "name": "stdout",
     "output_type": "stream",
     "text": [
      "year is     January 2025\n",
      "Su Mo Tu We Th Fr Sa\n",
      "          1  2  3  4\n",
      " 5  6  7  8  9 10 11\n",
      "12 13 14 15 16 17 18\n",
      "19 20 21 22 23 24 25\n",
      "26 27 28 29 30 31\n",
      "\n"
     ]
    }
   ],
   "source": [
    "import calendar\n",
    "c = calendar.TextCalendar(calendar.SUNDAY)\n",
    "str = c.formatmonth(2025,1)\n",
    "print('year is', str )\n",
    "\n",
    "# other method for calendar using function\n",
    "for i in range(1,13):\n",
    "    c = calendar.TextCalendar(calendar.SUNDAY)\n",
    "    str = c.formatmonth(2025,i)\n",
    "    print('year is', str )"
   ]
  },
  {
   "cell_type": "markdown",
   "metadata": {},
   "source": [
    "4. Write a Python program to solve quadratic equation?"
   ]
  },
  {
   "cell_type": "code",
   "execution_count": 32,
   "metadata": {},
   "outputs": [
    {
     "name": "stdout",
     "output_type": "stream",
     "text": [
      "enter the value2\n",
      "enter the value2\n",
      "enter the value2\n",
      "enter the value2\n",
      "quadratic equation is 14\n"
     ]
    }
   ],
   "source": [
    "a = int(input(\"enter the value\"))\n",
    "b = int(input(\"enter the value\"))\n",
    "c = int(input(\"enter the value\"))\n",
    "x = int(input('enter the value'))\n",
    "d = a*x**2 + b*x + c\n",
    "print(\"quadratic equation is {}\".format(d))\n"
   ]
  },
  {
   "cell_type": "markdown",
   "metadata": {},
   "source": [
    "5. Write a Python program to swap two variables without temp variable?"
   ]
  },
  {
   "cell_type": "code",
   "execution_count": 38,
   "metadata": {},
   "outputs": [
    {
     "name": "stdout",
     "output_type": "stream",
     "text": [
      "Before swapping: \n",
      "Value of x :  10  and y :  20\n",
      "After swapping: \n",
      "Value of x :  20  and y :  10\n"
     ]
    }
   ],
   "source": [
    "x = 10\n",
    "y = 20\n",
    "print (\"Before swapping: \")\n",
    "print(\"Value of x : \", x, \" and y : \", y)\n",
    " \n",
    "# code to swap 'x' and 'y'\n",
    "x, y = y, x\n",
    " \n",
    "print (\"After swapping: \")\n",
    "print(\"Value of x : \", x, \" and y : \", y)"
   ]
  },
  {
   "cell_type": "code",
   "execution_count": null,
   "metadata": {},
   "outputs": [],
   "source": []
  },
  {
   "cell_type": "code",
   "execution_count": null,
   "metadata": {},
   "outputs": [],
   "source": [
    "\n",
    "\n",
    "\n"
   ]
  },
  {
   "cell_type": "code",
   "execution_count": null,
   "metadata": {},
   "outputs": [],
   "source": []
  }
 ],
 "metadata": {
  "kernelspec": {
   "display_name": "Python 3",
   "language": "python",
   "name": "python3"
  },
  "language_info": {
   "codemirror_mode": {
    "name": "ipython",
    "version": 3
   },
   "file_extension": ".py",
   "mimetype": "text/x-python",
   "name": "python",
   "nbconvert_exporter": "python",
   "pygments_lexer": "ipython3",
   "version": "3.5.5"
  }
 },
 "nbformat": 4,
 "nbformat_minor": 2
}
