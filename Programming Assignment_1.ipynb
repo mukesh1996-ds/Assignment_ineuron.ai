{
 "cells": [
  {
   "cell_type": "markdown",
   "metadata": {},
   "source": [
    "1. Write a Python program to print \"Hello python\"?"
   ]
  },
  {
   "cell_type": "code",
   "execution_count": 2,
   "metadata": {},
   "outputs": [
    {
     "name": "stdout",
     "output_type": "stream",
     "text": [
      "Enter the desird inputhello\n",
      "Enter the desird inputpython\n"
     ]
    }
   ],
   "source": [
    "a = input(\"Enter the desird input\")\n",
    "b = input(\"Enter the desird input\")\n"
   ]
  },
  {
   "cell_type": "code",
   "execution_count": 3,
   "metadata": {},
   "outputs": [
    {
     "name": "stdout",
     "output_type": "stream",
     "text": [
      "hello python\n"
     ]
    }
   ],
   "source": [
    "print(a,b)"
   ]
  },
  {
   "cell_type": "markdown",
   "metadata": {},
   "source": [
    "2.Write a Python program to do arithmetical operations addition and division.?"
   ]
  },
  {
   "cell_type": "code",
   "execution_count": 8,
   "metadata": {},
   "outputs": [
    {
     "name": "stdout",
     "output_type": "stream",
     "text": [
      "enter the first value :- 144\n",
      "enter the second value:- 2\n",
      "result for addition is 146\n",
      "result for divison is 72.0\n"
     ]
    }
   ],
   "source": [
    "a = int(input(\"enter the first value :- \"))\n",
    "b = int(input('enter the second value:- '))\n",
    "c = print(\"result for addition is\",a+b)\n",
    "d = print(\"result for divison is\",a/b)"
   ]
  },
  {
   "cell_type": "markdown",
   "metadata": {},
   "source": [
    "3. Write a Python program to find the area of a triangle?"
   ]
  },
  {
   "cell_type": "code",
   "execution_count": 13,
   "metadata": {},
   "outputs": [
    {
     "name": "stdout",
     "output_type": "stream",
     "text": [
      "enter the value :--18\n",
      "enter the value :--19\n",
      "The area of triangle is :- 171.0\n"
     ]
    }
   ],
   "source": [
    "# area of triangle for two side\n",
    "base = float(input(\"enter the value :--\"))\n",
    "height = float(input(\"enter the value :--\"))\n",
    "area = base*height/2\n",
    "print(\"The area of triangle is :-\", area)"
   ]
  },
  {
   "cell_type": "code",
   "execution_count": 21,
   "metadata": {},
   "outputs": [
    {
     "name": "stdout",
     "output_type": "stream",
     "text": [
      "Enter first side:- 8\n",
      "Enter second side:- 8\n",
      "Enter third side:- 8\n",
      "The area of the triangle is  27.712812921102035\n"
     ]
    }
   ],
   "source": [
    "# area of triangle for 3 side\n",
    "# Three sides of the triangle is a, b and c:  \n",
    "a = float(input(\"Enter first side:- \"))  \n",
    "b = float(input(\"Enter second side:- \"))  \n",
    "c = float(input(\"Enter third side:- \"))  \n",
    "  \n",
    "# calculate the semi-perimeter  \n",
    "s = (a + b + c) / 2  \n",
    "  \n",
    "# calculate the area  \n",
    "area = (s*(s-a)*(s-b)*(s-c)) ** 0.5  \n",
    "print('The area of the triangle is ', area)   "
   ]
  },
  {
   "cell_type": "markdown",
   "metadata": {},
   "source": [
    "4. Write a Python program to swap two variables?"
   ]
  },
  {
   "cell_type": "code",
   "execution_count": 22,
   "metadata": {},
   "outputs": [
    {
     "name": "stdout",
     "output_type": "stream",
     "text": [
      "enter the first value:-15\n",
      "enter the second value:-2\n",
      "The value of x after swapping: 2\n",
      "The value of y after swapping: 15\n"
     ]
    }
   ],
   "source": [
    "x = int(input(\"enter the first value:-\"))\n",
    "y = int(input(\"enter the second value:-\"))\n",
    "temp = x\n",
    "x = y\n",
    "y = temp\n",
    "print('The value of x after swapping: {}'.format(x))\n",
    "print('The value of y after swapping: {}'.format(y))"
   ]
  },
  {
   "cell_type": "markdown",
   "metadata": {},
   "source": [
    "5. Write a Python program to generate a random number?"
   ]
  },
  {
   "cell_type": "code",
   "execution_count": 58,
   "metadata": {},
   "outputs": [
    {
     "name": "stdout",
     "output_type": "stream",
     "text": [
      "randon number is: 6381\n"
     ]
    }
   ],
   "source": [
    "import random\n",
    "list1 = [range(0,10000)]\n",
    "for i in list1:\n",
    "    print(\"randon number is: {}\".format(random.choice(i)))\n"
   ]
  },
  {
   "cell_type": "code",
   "execution_count": null,
   "metadata": {},
   "outputs": [],
   "source": []
  },
  {
   "cell_type": "code",
   "execution_count": null,
   "metadata": {},
   "outputs": [],
   "source": [
    "\n"
   ]
  },
  {
   "cell_type": "code",
   "execution_count": null,
   "metadata": {},
   "outputs": [],
   "source": []
  }
 ],
 "metadata": {
  "kernelspec": {
   "display_name": "Python 3",
   "language": "python",
   "name": "python3"
  },
  "language_info": {
   "codemirror_mode": {
    "name": "ipython",
    "version": 3
   },
   "file_extension": ".py",
   "mimetype": "text/x-python",
   "name": "python",
   "nbconvert_exporter": "python",
   "pygments_lexer": "ipython3",
   "version": "3.5.5"
  }
 },
 "nbformat": 4,
 "nbformat_minor": 2
}
