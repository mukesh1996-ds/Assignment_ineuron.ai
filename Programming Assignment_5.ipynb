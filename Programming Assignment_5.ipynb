{
 "cells": [
  {
   "cell_type": "markdown",
   "metadata": {},
   "source": [
    "1. Write a Python Program to Find LCM?"
   ]
  },
  {
   "cell_type": "code",
   "execution_count": 4,
   "metadata": {},
   "outputs": [
    {
     "name": "stdout",
     "output_type": "stream",
     "text": [
      "enter the first number5\n",
      "enter the second number10\n",
      "LCM of 5 and LCM of 10 is 10\n",
      "None\n"
     ]
    }
   ],
   "source": [
    "a = int(input('enter the first number' ))\n",
    "b = int(input('enter the second number'))\n",
    "def LCM(a,b):\n",
    "    if a>b:\n",
    "        heigher = a\n",
    "    else:\n",
    "        heigher = b\n",
    "    value = heigher\n",
    "    while True:\n",
    "        if heigher%a == 0 and heigher%b ==0:\n",
    "            print('LCM of', a, 'and', 'LCM of', b, 'is', heigher)\n",
    "            break\n",
    "        else:\n",
    "            heigher = heigher+value\n",
    "            \n",
    "print(LCM(a,b))"
   ]
  },
  {
   "cell_type": "markdown",
   "metadata": {},
   "source": [
    "2. Write a Python Program to Find HCF?"
   ]
  },
  {
   "cell_type": "code",
   "execution_count": 10,
   "metadata": {},
   "outputs": [
    {
     "name": "stdout",
     "output_type": "stream",
     "text": [
      "ENTER FIRST NUMBER : 23\n",
      "ENTER SECOND NUMBER : 1\n",
      "THE HCF OF  23  AND  1  IS :  1\n"
     ]
    }
   ],
   "source": [
    "def calc_hcf(x,y):\n",
    "  if x > y:\n",
    "    small = y\n",
    "  else:\n",
    "    small = x\n",
    "  for i in range(1,small + 1):\n",
    "    if((x % i == 0) and (y % i == 0)):\n",
    "      result = i\n",
    "  return result\n",
    "a = int(input(\"ENTER FIRST NUMBER : \"))\n",
    "b = int(input(\"ENTER SECOND NUMBER : \"))\n",
    "print(\"THE HCF OF \",a,\" AND \",b,\" IS : \",calc_hcf(a, b))"
   ]
  },
  {
   "cell_type": "markdown",
   "metadata": {},
   "source": [
    "3.Write a Python Program to Convert Decimal to Binary, Octal and Hexadecimal?"
   ]
  },
  {
   "cell_type": "code",
   "execution_count": 12,
   "metadata": {},
   "outputs": [],
   "source": [
    "import math"
   ]
  },
  {
   "cell_type": "code",
   "execution_count": 13,
   "metadata": {},
   "outputs": [
    {
     "name": "stdout",
     "output_type": "stream",
     "text": [
      "enter the value5\n",
      "values converted into [1]binary [2]octal [3]hexa1\n",
      "converted into binary 0b101\n"
     ]
    }
   ],
   "source": [
    "decimal = int(input('enter the value'))\n",
    "convert_value = int(input('values converted into [1]binary [2]octal [3]hexa'))\n",
    "if convert_value == 1:\n",
    "    print(\"converted into binary\", bin(decimal))\n",
    "elif covert_value == 2:\n",
    "    print(\"converted into ocatal\", oct(decimal))\n",
    "elif convert_value == 3:\n",
    "    print(\"converted into hexa\", hex(decimal))\n",
    "else:\n",
    "    print('cannot print the value' )"
   ]
  },
  {
   "cell_type": "markdown",
   "metadata": {},
   "source": [
    "4. Write a Python Program To Find ASCII value of a character?"
   ]
  },
  {
   "cell_type": "code",
   "execution_count": 15,
   "metadata": {},
   "outputs": [
    {
     "name": "stdout",
     "output_type": "stream",
     "text": [
      "enter the valuemukesh\n",
      "the ASCII value is \n",
      " 109:the ASCII value is \n",
      " 117:the ASCII value is \n",
      " 107:the ASCII value is \n",
      " 101:the ASCII value is \n",
      " 115:the ASCII value is \n",
      " 104:"
     ]
    }
   ],
   "source": [
    "a = input(\"enter the value\")\n",
    "for i in a:\n",
    "    print('the ASCII value is \\n', ord(i), end = ':')"
   ]
  },
  {
   "cell_type": "markdown",
   "metadata": {},
   "source": [
    "5. Write a Python Program to Make a Simple Calculator with 4 basic mathematical operations?"
   ]
  },
  {
   "cell_type": "code",
   "execution_count": 19,
   "metadata": {},
   "outputs": [
    {
     "name": "stdout",
     "output_type": "stream",
     "text": [
      "enter the value for first integer 5\n",
      "enter the value for second integer5\n",
      "addition of the value is  10\n",
      "subtraction of the value is  0\n",
      "multiplication of the value is  25\n",
      "division of the value is  1.0\n"
     ]
    }
   ],
   "source": [
    "integer1 = int(input(\"enter the value for first integer \"))\n",
    "integer2 = int(input(\"enter the value for second integer\"))\n",
    "result = 0\n",
    "def add(integer1,integer2):\n",
    "    result = integer1 + integer2\n",
    "    return result\n",
    "print(\"addition of the value is \", add(integer1 , integer2))\n",
    "def sub(integer1, integer2):\n",
    "    result = integer1 - integer2\n",
    "    return result\n",
    "print(\"subtraction of the value is \", sub(integer1 , integer2))\n",
    "def mul(integer1, integer2):\n",
    "    result = integer1 * integer2\n",
    "    return result\n",
    "print(\"multiplication of the value is \", mul(integer1 , integer2))\n",
    "def div(integer1, integer2):\n",
    "    result = integer1 / integer2\n",
    "    return result\n",
    "print(\"division of the value is \", div(integer1 , integer2))\n",
    "\n"
   ]
  },
  {
   "cell_type": "code",
   "execution_count": null,
   "metadata": {},
   "outputs": [],
   "source": []
  }
 ],
 "metadata": {
  "kernelspec": {
   "display_name": "Python 3",
   "language": "python",
   "name": "python3"
  },
  "language_info": {
   "codemirror_mode": {
    "name": "ipython",
    "version": 3
   },
   "file_extension": ".py",
   "mimetype": "text/x-python",
   "name": "python",
   "nbconvert_exporter": "python",
   "pygments_lexer": "ipython3",
   "version": "3.5.5"
  }
 },
 "nbformat": 4,
 "nbformat_minor": 2
}
