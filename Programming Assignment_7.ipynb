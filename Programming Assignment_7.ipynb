{
 "cells": [
  {
   "cell_type": "markdown",
   "metadata": {},
   "source": [
    "1. Write a Python Program to find sum of array?"
   ]
  },
  {
   "cell_type": "code",
   "execution_count": 14,
   "metadata": {},
   "outputs": [
    {
     "name": "stdout",
     "output_type": "stream",
     "text": [
      "sum of array is  189\n"
     ]
    }
   ],
   "source": [
    "arr = [34,56,43,56]\n",
    "#n = 0\n",
    "ans = sum(arr)\n",
    "print(\"sum of array is \", sum(arr))"
   ]
  },
  {
   "cell_type": "markdown",
   "metadata": {},
   "source": [
    "2. Write a Python Program to find largest element in an array?"
   ]
  },
  {
   "cell_type": "code",
   "execution_count": 16,
   "metadata": {},
   "outputs": [
    {
     "name": "stdout",
     "output_type": "stream",
     "text": [
      "largest element present in array is  90\n"
     ]
    }
   ],
   "source": [
    "arr1 = [4,63,73,2,57,90,34,12,9,10]\n",
    "max = arr[0]\n",
    "for i in range(0,len(arr1)):\n",
    "    if arr1[i]>max:\n",
    "        max = arr1[i]\n",
    "print(\"largest element present in array is \", str(max))"
   ]
  },
  {
   "cell_type": "markdown",
   "metadata": {},
   "source": [
    "3. Write a Python Program for array rotation?"
   ]
  },
  {
   "cell_type": "code",
   "execution_count": 21,
   "metadata": {},
   "outputs": [
    {
     "name": "stdout",
     "output_type": "stream",
     "text": [
      "[4, 5, 1, 2, 3]\n"
     ]
    }
   ],
   "source": [
    "arr2 = [1,2,3,4,5]\n",
    "shift = 2\n",
    "def arr2_rotation(arr2,shift):\n",
    "    for i in range(0,shift):\n",
    "        temp = arr2[len(arr2)-1]\n",
    "        for j in range(len(arr2)-1,0,-1):\n",
    "            arr2[j] = arr2[j-1]\n",
    "        arr2[0] = temp\n",
    "    return arr2\n",
    "\n",
    "def PrintArray(array):\n",
    "    for i in range(8,len(array)):\n",
    "        print(array[i], end = \" \")\n",
    "        \n",
    "rotate_array = arr2_rotation(arr2,shift)\n",
    "print(rotate_array)"
   ]
  },
  {
   "cell_type": "markdown",
   "metadata": {},
   "source": [
    "4. Write a Python Program to Split the array and add the first part to the end?"
   ]
  },
  {
   "cell_type": "code",
   "execution_count": 30,
   "metadata": {},
   "outputs": [
    {
     "name": "stdout",
     "output_type": "stream",
     "text": [
      "The list is :\n",
      "[4, 63, 73, 2, 57, 90, 34, 12, 9, 10]\n",
      "The split_list method is being called\n",
      "73\n",
      "2\n",
      "57\n",
      "90\n",
      "34\n",
      "12\n",
      "9\n",
      "10\n",
      "4\n",
      "63\n"
     ]
    }
   ],
   "source": [
    "l1 = [4,63,73,2,57,90,34,12,9,10]\n",
    "l2_len = len(l1)\n",
    "pos = 2\n",
    "print(\"The list is :\")\n",
    "print(l1)\n",
    "print(\"The split_list method is being called\")\n",
    "split_list(l1, l2_len, pos)\n",
    "for i in range(0, l2_len):\n",
    "    print(l1[i])"
   ]
  },
  {
   "cell_type": "markdown",
   "metadata": {},
   "source": [
    "5. Write a Python Program to check if given array is Monotonic?"
   ]
  },
  {
   "cell_type": "code",
   "execution_count": 39,
   "metadata": {},
   "outputs": [
    {
     "name": "stdout",
     "output_type": "stream",
     "text": [
      "True\n"
     ]
    }
   ],
   "source": [
    "def isMonotonic(A):\n",
    "   return (all(A[i] <= A[i + 1] for i in range(len(A) - 1)) or\n",
    "      all(A[i] >= A[i + 1] for i in range(len(A) - 1)))\n",
    "\n",
    "\n",
    "A = [1,2,3,4,7,8]\n",
    "print(isMonotonic(A))"
   ]
  },
  {
   "cell_type": "code",
   "execution_count": 33,
   "metadata": {},
   "outputs": [],
   "source": []
  },
  {
   "cell_type": "code",
   "execution_count": null,
   "metadata": {},
   "outputs": [],
   "source": []
  },
  {
   "cell_type": "code",
   "execution_count": null,
   "metadata": {},
   "outputs": [],
   "source": []
  }
 ],
 "metadata": {
  "kernelspec": {
   "display_name": "Python 3",
   "language": "python",
   "name": "python3"
  },
  "language_info": {
   "codemirror_mode": {
    "name": "ipython",
    "version": 3
   },
   "file_extension": ".py",
   "mimetype": "text/x-python",
   "name": "python",
   "nbconvert_exporter": "python",
   "pygments_lexer": "ipython3",
   "version": "3.5.5"
  }
 },
 "nbformat": 4,
 "nbformat_minor": 2
}
