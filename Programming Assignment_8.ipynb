{
 "cells": [
  {
   "cell_type": "markdown",
   "metadata": {},
   "source": [
    "1. Write a Python Program to Add Two Matrices?"
   ]
  },
  {
   "cell_type": "code",
   "execution_count": 5,
   "metadata": {},
   "outputs": [
    {
     "name": "stdout",
     "output_type": "stream",
     "text": [
      "[2, 4, 6]\n",
      "[0, 0, 0]\n",
      "[2, 4, 6]\n",
      "[8, 10, 12]\n"
     ]
    }
   ],
   "source": [
    "a = [[1,2,3],\n",
    "    [4,5,6]]\n",
    "b = [[7,8,9],\n",
    "    [4,5,7]]\n",
    "c = [[0,0,0],\n",
    "    [0,0,0]]\n",
    "\n",
    "for i in range(len(a)):\n",
    "    for j in range(len(a[0])):\n",
    "        c[i][j] = a[i][j]+a[i][j]\n",
    "    for r in c:\n",
    "        print(r)"
   ]
  },
  {
   "cell_type": "markdown",
   "metadata": {},
   "source": [
    "2. Write a Python Program to Multiply Two Matrices?"
   ]
  },
  {
   "cell_type": "code",
   "execution_count": 8,
   "metadata": {},
   "outputs": [
    {
     "name": "stdout",
     "output_type": "stream",
     "text": [
      "[0, 45, 32]\n",
      "[21, 12, 5]\n",
      "[0, 45, 32]\n",
      "[21, 12, 5]\n"
     ]
    }
   ],
   "source": [
    "x = [[0,9,8],\n",
    "    [7,6,5]]\n",
    "y = [[6,5,4],\n",
    "    [3,2,1]]\n",
    "for i in range(len(x)):\n",
    "    for j in range(len(x[0])):\n",
    "        c[i][j] = x[i][j]*y[i][j]\n",
    "    for result in c:\n",
    "        print(result)"
   ]
  },
  {
   "cell_type": "markdown",
   "metadata": {},
   "source": [
    "3. Write a Python Program to Transpose a Matrix?"
   ]
  },
  {
   "cell_type": "code",
   "execution_count": 32,
   "metadata": {},
   "outputs": [
    {
     "name": "stdout",
     "output_type": "stream",
     "text": [
      "enter the number[0][0]1\n",
      "enter the number[0][1]2\n",
      "enter the number[0][2]3\n",
      "enter the number[1][0]4\n",
      "enter the number[1][1]5\n",
      "enter the number[1][2]6\n",
      "enter the number[2][0]7\n",
      "enter the number[2][1]8\n",
      "enter the number[2][2]9\n",
      "matrix is......\n",
      "1 2 3 \n",
      "4 5 6 \n",
      "7 8 9 \n",
      "Transpose matrix is .......\n",
      "1 4 7 \n",
      "0 0 0 \n",
      "0 0 0 \n",
      "Transpose matrix is .......\n",
      "1 4 7 \n",
      "2 5 8 \n",
      "0 0 0 \n",
      "Transpose matrix is .......\n",
      "1 4 7 \n",
      "2 5 8 \n",
      "3 6 9 \n"
     ]
    }
   ],
   "source": [
    "m = []\n",
    "for i in range(3):\n",
    "    a = []\n",
    "    for j in range(3):\n",
    "        j = int(input(\"enter the number[\"+str(i)+\"][\"+str(j)+\"]\"))\n",
    "        a.append(j)\n",
    "    m.append(a)\n",
    "print(\"matrix is......\")\n",
    "for i in range(3):\n",
    "    for j in range(3):\n",
    "        print(m[i][j],end =\" \")\n",
    "    print()\n",
    "t = [[0,0,0],[0,0,0],[0,0,0]]\n",
    "for i in range(3):\n",
    "    for j in range(3):\n",
    "        t[i][j] = m[j][i]\n",
    "    print(\"Transpose matrix is .......\")\n",
    "    for i in range(3):\n",
    "        for j in range(3):\n",
    "            print(t[i][j], end = ' ')\n",
    "        print()\n",
    "        \n",
    "        \n",
    "    "
   ]
  },
  {
   "cell_type": "markdown",
   "metadata": {},
   "source": [
    "4. Write a Python Program to Sort Words in Alphabetic Order?"
   ]
  },
  {
   "cell_type": "code",
   "execution_count": 57,
   "metadata": {},
   "outputs": [
    {
     "name": "stdout",
     "output_type": "stream",
     "text": [
      "enter the desired statement\"Data science is the field of study that combines domain expertise\"\n"
     ]
    },
    {
     "data": {
      "text/plain": [
       "['\"data',\n",
       " 'combines',\n",
       " 'domain',\n",
       " 'expertise\"',\n",
       " 'field',\n",
       " 'is',\n",
       " 'of',\n",
       " 'science',\n",
       " 'study',\n",
       " 'that',\n",
       " 'the']"
      ]
     },
     "execution_count": 57,
     "metadata": {},
     "output_type": "execute_result"
    }
   ],
   "source": [
    "s = input(\"enter the desired statement\")\n",
    "word = s.lower().split()\n",
    "word.sort()\n",
    "word"
   ]
  },
  {
   "cell_type": "markdown",
   "metadata": {},
   "source": [
    "5. Write a Python Program to Remove Punctuation From a String?"
   ]
  },
  {
   "cell_type": "code",
   "execution_count": 60,
   "metadata": {},
   "outputs": [
    {
     "name": "stdout",
     "output_type": "stream",
     "text": [
      "enter the string.....hi... this is mukesh@@\n",
      "display the result hi this is mukesh\n"
     ]
    }
   ],
   "source": [
    "puchuation_symbol = '''!@#$%^&*()'''\"\"'''{}:;<>?./*-_'''\n",
    "str = input(\"enter the string.....\")\n",
    "rem_punch = \"\"\n",
    "for char in str:\n",
    "    if char not in puchuation_symbol:\n",
    "        rem_punch+=char\n",
    "print(\"display the result\", rem_punch)"
   ]
  },
  {
   "cell_type": "code",
   "execution_count": null,
   "metadata": {},
   "outputs": [],
   "source": []
  },
  {
   "cell_type": "code",
   "execution_count": null,
   "metadata": {},
   "outputs": [],
   "source": []
  }
 ],
 "metadata": {
  "kernelspec": {
   "display_name": "Python 3",
   "language": "python",
   "name": "python3"
  },
  "language_info": {
   "codemirror_mode": {
    "name": "ipython",
    "version": 3
   },
   "file_extension": ".py",
   "mimetype": "text/x-python",
   "name": "python",
   "nbconvert_exporter": "python",
   "pygments_lexer": "ipython3",
   "version": "3.5.5"
  }
 },
 "nbformat": 4,
 "nbformat_minor": 2
}
