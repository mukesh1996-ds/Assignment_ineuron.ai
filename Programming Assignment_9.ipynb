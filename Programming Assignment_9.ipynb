{
 "cells": [
  {
   "cell_type": "markdown",
   "metadata": {},
   "source": [
    "1. Write a Python program to check if the given number is a Disarium Number?"
   ]
  },
  {
   "cell_type": "code",
   "execution_count": 37,
   "metadata": {},
   "outputs": [
    {
     "name": "stdout",
     "output_type": "stream",
     "text": [
      "enter the number...:-89\n",
      "Yes\n"
     ]
    }
   ],
   "source": [
    "def countDigits(n):\n",
    " \n",
    "    a = 0\n",
    "    while (n != 0):\n",
    "        a += 1\n",
    "        n = int( n / 10)\n",
    "     \n",
    "    return a\n",
    " \n",
    "# Returns true if x is Diserium\n",
    "def isDeserium(x):\n",
    " \n",
    "    temp = x\n",
    "    p = countDigits(x)\n",
    " \n",
    "    # Compute powers of digits\n",
    "    # from right to left.\n",
    "    sum = 0\n",
    "    while (x != 0):\n",
    "        digit = int(x % 10)\n",
    "        sum += pow(digit, p)\n",
    "        p -= 1\n",
    "        x = int(x / 10)\n",
    "     \n",
    " \n",
    "    # If sum of powers is same as\n",
    "    # given number.\n",
    "    return (sum == temp)\n",
    " \n",
    "# Driver code\n",
    "x = int(input(\"enter the number...:-\"))\n",
    "if (isDeserium(x)):\n",
    "    print(\"Yes\")\n",
    "else:\n",
    "    print(\"No\")"
   ]
  },
  {
   "cell_type": "markdown",
   "metadata": {},
   "source": [
    "2. Write a Python program to print all disarium numbers between 1 to 100?"
   ]
  },
  {
   "cell_type": "code",
   "execution_count": 25,
   "metadata": {},
   "outputs": [
    {
     "name": "stdout",
     "output_type": "stream",
     "text": [
      "the disarium number aare 0\n",
      "the disarium number aare 1\n",
      "the disarium number aare 2\n",
      "the disarium number aare 3\n",
      "the disarium number aare 4\n",
      "the disarium number aare 5\n",
      "the disarium number aare 6\n",
      "the disarium number aare 7\n",
      "the disarium number aare 8\n",
      "the disarium number aare 9\n",
      "the disarium number aare 89\n"
     ]
    }
   ],
   "source": [
    "# function is declerared in the above program to check wether the given number is disarium or not..\n",
    "for i in range(100):\n",
    "    if (isDeserium(i)):\n",
    "        print(\"the disarium number aare\",i)"
   ]
  },
  {
   "cell_type": "markdown",
   "metadata": {},
   "source": [
    "3. Write a Python program to check if the given number is Happy Number?"
   ]
  },
  {
   "cell_type": "code",
   "execution_count": 44,
   "metadata": {},
   "outputs": [
    {
     "name": "stdout",
     "output_type": "stream",
     "text": [
      "enter the number2\n",
      "yes it's happy number\n"
     ]
    }
   ],
   "source": [
    "def square(n):\n",
    "    a = 0\n",
    "    while n>0:\n",
    "        d = n%10\n",
    "        a = a+d*d\n",
    "        n = n //10\n",
    "    if a > 10 :\n",
    "        return square(a)\n",
    "    else:\n",
    "        return a\n",
    "def check_happy(n):\n",
    "    a = square(n)\n",
    "    if a == 1:\n",
    "        return True\n",
    "    elif a<10:\n",
    "        return False\n",
    "num = int(input(\"enter the number\"))\n",
    "s = check_happy(num)\n",
    "if sum:\n",
    "    return yes\n",
    "else:\n",
    "    return no\n"
   ]
  },
  {
   "cell_type": "markdown",
   "metadata": {},
   "source": [
    "4. Write a Python program to print all happy numbers between 1 and 100?"
   ]
  },
  {
   "cell_type": "code",
   "execution_count": 45,
   "metadata": {},
   "outputs": [
    {
     "name": "stdout",
     "output_type": "stream",
     "text": [
      "the happynumber aare 1\n",
      "the happynumber aare 10\n",
      "the happynumber aare 19\n",
      "the happynumber aare 28\n",
      "the happynumber aare 68\n",
      "the happynumber aare 82\n",
      "the happynumber aare 86\n",
      "the happynumber aare 91\n"
     ]
    }
   ],
   "source": [
    "# function is declerared in the above program to check wether the given number is happy or not..\n",
    "\n",
    "for i in range(100):\n",
    "    if (check_happy(i)):\n",
    "        print(\"the happynumber aare\",i)"
   ]
  },
  {
   "cell_type": "markdown",
   "metadata": {},
   "source": [
    "5. Write a Python program to determine whether the given number is a Harshad Number?"
   ]
  },
  {
   "cell_type": "code",
   "execution_count": 52,
   "metadata": {},
   "outputs": [
    {
     "name": "stdout",
     "output_type": "stream",
     "text": [
      "enter the value153\n",
      "153 yes a harshad number\n"
     ]
    }
   ],
   "source": [
    "n = int(input(\"enter the value\"))\n",
    "a = n # copy of n for further use\n",
    "digit_sum = 0\n",
    "\n",
    "while n:\n",
    "    digit_sum += n%10\n",
    "    n //= 10\n",
    "    \n",
    "if (a%digit_sum == 0):\n",
    "    print(str(a), \"yes a harshad number\")\n",
    "else:\n",
    "    print(str(a),\" not a harshad number\")"
   ]
  },
  {
   "cell_type": "markdown",
   "metadata": {},
   "source": [
    "6. Write a Python program to print all pronic numbers between 1 and 100?"
   ]
  },
  {
   "cell_type": "code",
   "execution_count": 60,
   "metadata": {},
   "outputs": [
    {
     "name": "stdout",
     "output_type": "stream",
     "text": [
      "enter the number1\n",
      "False\n"
     ]
    }
   ],
   "source": [
    "def ispronic(a):\n",
    "    flag = False\n",
    "    \n",
    "    for i in range(100):\n",
    "        if (i*(i+1)== a):\n",
    "            flag = True\n",
    "            break\n",
    "    return flag\n",
    "\n",
    "n = int(input(\"enter the number\"))\n",
    "print(ispronic(n))\n",
    "    \n",
    "    \n",
    "    "
   ]
  },
  {
   "cell_type": "code",
   "execution_count": null,
   "metadata": {},
   "outputs": [],
   "source": []
  },
  {
   "cell_type": "code",
   "execution_count": null,
   "metadata": {},
   "outputs": [],
   "source": []
  },
  {
   "cell_type": "code",
   "execution_count": null,
   "metadata": {},
   "outputs": [],
   "source": []
  }
 ],
 "metadata": {
  "kernelspec": {
   "display_name": "Python 3",
   "language": "python",
   "name": "python3"
  },
  "language_info": {
   "codemirror_mode": {
    "name": "ipython",
    "version": 3
   },
   "file_extension": ".py",
   "mimetype": "text/x-python",
   "name": "python",
   "nbconvert_exporter": "python",
   "pygments_lexer": "ipython3",
   "version": "3.5.5"
  }
 },
 "nbformat": 4,
 "nbformat_minor": 2
}
